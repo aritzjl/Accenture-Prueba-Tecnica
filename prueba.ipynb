{
 "cells": [
  {
   "cell_type": "markdown",
   "id": "b4ed5081-af61-4de4-9494-38197f75eb33",
   "metadata": {},
   "source": [
    "## Haz los ejercicios libremente: usa google, stackoverflow, chatgpt... lo que necesites. \n",
    "\n",
    "Los enunciados son lo suficientemente concretos para saber lo que se pide, y escuetos para dar libertad creativa."
   ]
  },
  {
   "cell_type": "markdown",
   "id": "d78cda9e-46bb-4327-bf98-68f20beb1955",
   "metadata": {
    "tags": []
   },
   "source": [
    "## 1. Datos sensibles en Github\n",
    "\n",
    "Mientras trabajas en un proyecto, te has dado cuenta de que alguien ha subido por error datos sensibles al repositorio de Github que no deberían estar allí (por ejemplo, un password de acceso a base de datos).\n",
    "¿Cuál crees que sería la mejor solución?"
   ]
  },
  {
   "cell_type": "markdown",
   "id": "f3f4c804-48a5-4dd9-b816-31b9cefb6c79",
   "metadata": {},
   "source": [
    "Lo primero que haría sería notificar a un superior.\n",
    "En caso de que este no pudiera responder inmediatamente, probablemente cambiaría las credenciales en su respectiva plataforma, a no ser que sea inviable pausar algún servicio que este utilizando esas credenciales."
   ]
  },
  {
   "cell_type": "markdown",
   "id": "b11feb02-5885-461f-878a-b44d120e5af7",
   "metadata": {
    "tags": []
   },
   "source": [
    "## 2. FizzBuzz\n",
    "\n",
    "Escribir los números del 1 al 100 por pantalla, pero:\n",
    "- Si es múltiplo de 3: escribir \"Fizz\"\n",
    "- Si es múltiplo de 5: escribir \"Buzz\"\n",
    "- Si es múltiplo de 3 y de 5: escribir \"FizzBuzz\"\n",
    "- Si no: escribir el número que toca\n",
    "\n",
    "Ejemplo de respuesta posible:\n",
    "\n",
    "```\n",
    ">>> 1, 2, Fizz, 4, Buzz, Fizz, 7, 8, Fizz, Buzz, 11, Fizz, 13, 14, Fizz Buzz, 16, 17, Fizz, 19, Buzz, Fizz, 22, 23, Fizz, Buzz, 26, Fizz, 28, 29, Fizz Buzz, 31, 32, Fizz, 34, Buzz, Fizz, ... \n",
    "```"
   ]
  },
  {
   "cell_type": "code",
   "execution_count": 70,
   "id": "3c03b84b",
   "metadata": {},
   "outputs": [
    {
     "name": "stdout",
     "output_type": "stream",
     "text": [
      "1, 2, Fizz, 4, Buzz, Fizz, 7, 8, Fizz, Buzz, 11, Fizz, 13, 14, FizzBuzz, 16, 17, Fizz, 19, Buzz, Fizz, 22, 23, Fizz, Buzz, 26, Fizz, 28, 29, FizzBuzz, 31, 32, Fizz, 34, Buzz, Fizz, 37, 38, Fizz, Buzz, 41, Fizz, 43, 44, FizzBuzz, 46, 47, Fizz, 49, Buzz, Fizz, 52, 53, Fizz, Buzz, 56, Fizz, 58, 59, FizzBuzz, 61, 62, Fizz, 64, Buzz, Fizz, 67, 68, Fizz, Buzz, 71, Fizz, 73, 74, FizzBuzz, 76, 77, Fizz, 79, Buzz, Fizz, 82, 83, Fizz, Buzz, 86, Fizz, 88, 89, FizzBuzz, 91, 92, Fizz, 94, Buzz, Fizz, 97, 98, Fizz\n"
     ]
    }
   ],
   "source": [
    "numeros = range(1,100)\n",
    "numerosFB = []\n",
    "for numero in numeros:\n",
    "    if numero % 3 == 0 and numero %5 == 0: # Si es múltiplo de ambos\n",
    "        numerosFB.append(\"FizzBuzz\")\n",
    "    elif numero % 3 == 0: # Si es múltiplo de 3\n",
    "        numerosFB.append(\"Fizz\")\n",
    "    elif numero % 5 == 0: # Si es múltiplo de 5\n",
    "        numerosFB.append(\"Buzz\")\n",
    "    else:\n",
    "        numerosFB.append(str(numero))\n",
    "    \n",
    "print(', '.join(numerosFB))\n",
    "\n"
   ]
  },
  {
   "cell_type": "markdown",
   "id": "7501d197-5aba-416b-a0a0-73d8d269a730",
   "metadata": {
    "tags": []
   },
   "source": [
    "## 3. Traductor de cuentas de email\n",
    "\n",
    "Las cuentas de correo de gmail tienen algunas particularidades:\n",
    "* Los puntos en las cuentas de correo se ignoran. Así, the.a.team@gmail.com es equivalente a theateam@gmail.com\n",
    "* Si aparece un + en la cuenta, todo lo que está entre el + y la @, se ignora. Así, the.a.team+loquesea@gmail.com es equivalente a theateam@gmail.com\n",
    "\n",
    "Estas particularidades son específicas de gmail y no aplican (o no tienen por qué aplicar) a otros dominios.\n",
    "\n",
    "Debes hacer una función \"cleanemail\" que devuelva la dirección de gmail limpia pero mantenga el resto intacta. Todas las cuentas de email se deben devolver en minúsculas.\n",
    "\n",
    "```\n",
    ">>> cleanemail('the.A.team@hotmail.com')\n",
    "'the.a.team@hotmail.com'\n",
    ">>> cleanemail('the.A.team@gmail.com')\n",
    "'theateam@gmail.com'\n",
    ">>> cleanemail('the.A.team+anibal.smith@gmail.com')\n",
    "'theateam@gmail.com'\n",
    ">>> cleanemail('theateam@yahoo.es')\n",
    "'theateam@yahoo.es'\n",
    "```"
   ]
  },
  {
   "cell_type": "code",
   "execution_count": 30,
   "id": "33cff0fd-0ba9-4a8a-aea9-dd64f6214670",
   "metadata": {},
   "outputs": [
    {
     "name": "stdout",
     "output_type": "stream",
     "text": [
      "the.a.team@hotmail.com\n",
      "theateam@gmail.com\n",
      "theateam@gmail.com\n",
      "theateam@yahoo.es\n"
     ]
    }
   ],
   "source": [
    "def cleanemail(email):\n",
    "    \n",
    "    #Primero nos aseguramos de que el email sea un string\n",
    "    if type(email) != str:\n",
    "        raise ValueError(\"El email debe ser un string\")\n",
    "    \n",
    "    \n",
    "    cleanedEmail = email.lower() # Primero convertimos a minúscula\n",
    "    \n",
    "    # Comprobamos si el email pertenece a gmail\n",
    "    dominioEmail = cleanedEmail.split(\"@\")[1]\n",
    "    if dominioEmail != \"gmail.com\": # Si el email no pertenece a gmail, lo devolvemos así\n",
    "        return cleanedEmail\n",
    "    \n",
    "    else:\n",
    "        # Antes de quitarle los puntos, voy a separar la parte local del email, para no quitar el punto del .com\n",
    "        localPart, domainPart = cleanedEmail.split(\"@\")\n",
    "        \n",
    "        # Ahora le quitamos los puntos\n",
    "        localPart = localPart.replace(\".\", \"\")\n",
    "        \n",
    "        # Ahora, nos quedamos únicamente con la parte izquierda del signo + (si lo hay)\n",
    "        if \"+\" in localPart:\n",
    "            localPart = localPart.split(\"+\")[0]\n",
    "            \n",
    "        # Volvemos a unir la parte local del email con el dominio, y lo devolvemos\n",
    "        cleanedEmail = localPart + \"@\" + domainPart\n",
    "        \n",
    "    return cleanedEmail\n",
    "        \n",
    "# Comprobación\n",
    "emails = ['the.A.team@hotmail.com','the.A.team@gmail.com','the.A.team+anibal.smith@gmail.com','theateam@yahoo.es']\n",
    "for email in emails:\n",
    "    print(cleanemail(email))\n"
   ]
  },
  {
   "cell_type": "markdown",
   "id": "4c1d8723-7e74-492c-bb24-1d35eb6940bd",
   "metadata": {},
   "source": [
    "## 4. Bingo\n",
    "\n",
    "Debes crear un generador de Bingo al que le puedas especificar el número de bolas que quieres que contenga.\n",
    "\n",
    "Una vez lo creas, cada vez que saques una bola, te debe decir que bola ha salido, qué bolas han salido desde el principio del juego, y cuántas bolas quedan en el bombo.\n",
    "\n",
    "#### Ejemplo:\n",
    "\n",
    "``` \n",
    ">>> bg = bingo(75)  # bingo de 75 bolas\n",
    ">>> next(bg)\n",
    ">>> (60, [60], 74)\n",
    ">>> next(bg)\n",
    ">>> (30, [60, 30], 73)\n",
    ">>> next(bg)\n",
    ">>> (65, [60, 30, 65], 72)\n",
    ">>> next(bg)\n",
    ">>> (29, [60, 30, 65, 29], 71)\n",
    "...\n",
    "    \n",
    "```"
   ]
  },
  {
   "cell_type": "code",
   "execution_count": 1,
   "id": "95f36c00-cea1-47e7-b6c4-3b79fb695511",
   "metadata": {},
   "outputs": [
    {
     "name": "stdout",
     "output_type": "stream",
     "text": [
      "Por favor, introduce la cantidad de bolas:\n",
      "Bingo iniciado!\n",
      "Bolas (5): [1, 5, 3, 4, 2]\n",
      "\n",
      "Bola sacada: 1\n",
      "Historial de bolas: [1]\n",
      "Bolas restantes: 4\n",
      "================ \n",
      "\n",
      "Bola sacada: 5\n",
      "Historial de bolas: [1, 5]\n",
      "Bolas restantes: 3\n",
      "================ \n",
      "\n",
      "Bola sacada: 3\n",
      "Historial de bolas: [1, 5, 3]\n",
      "Bolas restantes: 2\n",
      "================ \n",
      "\n",
      "Bola sacada: 4\n",
      "Historial de bolas: [1, 5, 3, 4]\n",
      "Bolas restantes: 1\n",
      "================ \n",
      "\n",
      "Bola sacada: 2\n",
      "Historial de bolas: [1, 5, 3, 4, 2]\n",
      "Bolas restantes: 0\n",
      "================ \n",
      "\n"
     ]
    }
   ],
   "source": [
    "\n",
    "import random\n",
    "\n",
    "class Bingo:\n",
    "    def __init__(self, cantidadBolas):\n",
    "        self.cantidadBolas = cantidadBolas\n",
    "        self.bolas = list(range(1, cantidadBolas+1)) # Generamos una lista de bolas\n",
    "        self.bolasSacadas = [] #Iremos llenando esta lista con las bolas que saquemos\n",
    "        #Desordenamos la lista\n",
    "        random.shuffle(self.bolas)\n",
    "        \n",
    "        print(\"Bingo iniciado!\")\n",
    "        print(f\"Bolas ({self.cantidadBolas}): {self.bolas}\\n\")\n",
    "        \n",
    "    def next(self):\n",
    "        bolaSacada = self.bolas[len(self.bolasSacadas)] #Obtenemos una bola\n",
    "        self.bolasSacadas.append(bolaSacada) #Añadimos la bola sacada a la lista de bolas sacadas\n",
    "        bolasRestantes = len(self.bolas) - len(self.bolasSacadas)\n",
    "        \n",
    "        print(f'Bola sacada: {bolaSacada}')\n",
    "        print(f'Historial de bolas: {self.bolasSacadas}')\n",
    "        print(f'Bolas restantes: {bolasRestantes}')\n",
    "        print(\"================ \\n\")\n",
    "    \n",
    "    def runAll(self):\n",
    "        while len(self.bolasSacadas) != len(self.bolas):\n",
    "            self.next()\n",
    "\n",
    "cantidadBolas = None\n",
    "\n",
    "\n",
    "#Hacemos un bucle para que pida\n",
    "#La cantidad de bolas, hasta que sea un valor válido\n",
    "while True:\n",
    "    print(\"Por favor, introduce la cantidad de bolas:\")\n",
    "    cantidadBolas = input()\n",
    "    try:\n",
    "        cantidadBolas=int(cantidadBolas)\n",
    "        break\n",
    "    except:\n",
    "        raise ValueError(\"Introduce un número válido\")\n",
    "\n",
    "bingo = Bingo(cantidadBolas)\n",
    "#bingo.next() #Sacar siguiente bola\n",
    "bingo.runAll() #Sacar todas las bolas\n",
    "\n",
    "        "
   ]
  },
  {
   "cell_type": "markdown",
   "id": "e1aa9566-3935-4f6b-82d8-48c9f2c1db35",
   "metadata": {},
   "source": [
    "## 5. FastAPI\n",
    "\n",
    "Debes crear un proyecto desde 0 en Fastapi, que tenga un endpoint \"/candidato\", que debe ser un método POST que reciba el DNI, Nombre y Apellido, que escriba esos datos en un sqlite.\n",
    "\n",
    "La respuesta a este problema debe de ser una URL de Github\n",
    "\n",
    "\n",
    "Link al proyecto: [Accenture-Prueba-Tecnica](https://github.com/aritzjl/Accenture-Prueba-Tecnica.git)\n"
   ]
  }
 ],
 "metadata": {
  "kernelspec": {
   "display_name": "Python 3 (ipykernel)",
   "language": "python",
   "name": "python3"
  },
  "language_info": {
   "codemirror_mode": {
    "name": "ipython",
    "version": 3
   },
   "file_extension": ".py",
   "mimetype": "text/x-python",
   "name": "python",
   "nbconvert_exporter": "python",
   "pygments_lexer": "ipython3",
   "version": "3.10.12"
  }
 },
 "nbformat": 4,
 "nbformat_minor": 5
}
